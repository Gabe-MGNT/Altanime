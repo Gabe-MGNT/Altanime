{
 "cells": [
  {
   "cell_type": "code",
   "execution_count": 1,
   "metadata": {},
   "outputs": [],
   "source": [
    "import pandas as pd\n",
    "import numpy as np\n",
    "from sklearn.feature_extraction.text import TfidfVectorizer\n",
    "from sklearn.metrics.pairwise import linear_kernel, cosine_similarity\n",
    "from sklearn.preprocessing import LabelEncoder,MultiLabelBinarizer"
   ]
  },
  {
   "cell_type": "code",
   "execution_count": 2,
   "metadata": {},
   "outputs": [],
   "source": [
    "df = pd.read_csv(\"../../anime.csv\")\n",
    "df = df.fillna('')"
   ]
  },
  {
   "cell_type": "code",
   "execution_count": 4,
   "metadata": {},
   "outputs": [
    {
     "data": {
      "text/plain": [
       "(9716, 29818)"
      ]
     },
     "execution_count": 4,
     "metadata": {},
     "output_type": "execute_result"
    }
   ],
   "source": [
    "tfidf = TfidfVectorizer(stop_words='english')\n",
    "tfidf_matrix = tfidf.fit_transform(df['summary'])\n",
    "tfidf_matrix.shape"
   ]
  },
  {
   "cell_type": "code",
   "execution_count": 5,
   "metadata": {},
   "outputs": [],
   "source": [
    "def preprocess_col(column):\n",
    "    set_genre = set()\n",
    "    for _, row in enumerate(column):\n",
    "        try:\n",
    "            genres = row.split(',')\n",
    "            for genre in genres:\n",
    "                set_genre.add(genre)\n",
    "        except Exception:\n",
    "            genre = row\n",
    "\n",
    "            set_genre.add(genre)\n",
    "    return set_genre\n",
    "\n",
    "\n",
    "def encode_categories(df, column_name):\n",
    "    set_genres = preprocess_col(df[column_name])\n",
    "    set_genres.remove('')\n",
    "    genres_list = list(set_genres)\n",
    "    genres_array = np.array(genres_list).reshape(1,-1)\n",
    "\n",
    "    le = MultiLabelBinarizer()\n",
    "    le.fit(genres_array)\n",
    "\n",
    "\n",
    "    def apply_le(x):\n",
    "        if len(x)==0:\n",
    "            return [0] * len(le.classes_)\n",
    "            \n",
    "\n",
    "        res = le.transform([x.split(\",\")])\n",
    "        return res[0]\n",
    "    \n",
    "\n",
    "    return df[column_name].apply(apply_le)\n",
    "\n",
    "\n"
   ]
  },
  {
   "cell_type": "code",
   "execution_count": 6,
   "metadata": {},
   "outputs": [],
   "source": [
    "genres_encoded = encode_categories(df, 'Genres')\n",
    "studios_encoded = encode_categories(df, 'Studios')\n",
    "themes_encoded = encode_categories(df, 'Themes')\n"
   ]
  },
  {
   "cell_type": "code",
   "execution_count": 7,
   "metadata": {},
   "outputs": [
    {
     "data": {
      "text/plain": [
       "(9716,)"
      ]
     },
     "execution_count": 7,
     "metadata": {},
     "output_type": "execute_result"
    }
   ],
   "source": [
    "genres_encoded.shape"
   ]
  },
  {
   "cell_type": "code",
   "execution_count": 8,
   "metadata": {},
   "outputs": [],
   "source": [
    "cosine_sim_genres = cosine_similarity(pd.DataFrame(list(genres_encoded)))\n",
    "cosine_sim_studios = cosine_similarity(pd.DataFrame(list(studios_encoded)))\n",
    "cosine_sim_encoded = cosine_similarity(pd.DataFrame(list(themes_encoded)))\n",
    "cosine_sim_summary = cosine_similarity(tfidf_matrix, tfidf_matrix)\n"
   ]
  },
  {
   "cell_type": "code",
   "execution_count": 9,
   "metadata": {},
   "outputs": [
    {
     "data": {
      "text/plain": [
       "(9716, 9716)"
      ]
     },
     "execution_count": 9,
     "metadata": {},
     "output_type": "execute_result"
    }
   ],
   "source": [
    "cosine_sim_summary = cosine_similarity(tfidf_matrix, tfidf_matrix)\n",
    "cosine_sim_summary.shape"
   ]
  },
  {
   "cell_type": "code",
   "execution_count": 9,
   "metadata": {},
   "outputs": [],
   "source": [
    "indices = pd.Series(df.index, index=df['title'])\n"
   ]
  },
  {
   "cell_type": "code",
   "execution_count": 14,
   "metadata": {},
   "outputs": [
    {
     "data": {
      "text/plain": [
       "Index(['Hitohira',\n",
       "       'Fate/Grand Order: Zettai Majuu Sensen Babylonia - Initium Iter',\n",
       "       'Xiha Youji', 'Cai Liu',\n",
       "       'Arifureta Shokugyou de Sekai Saikyou: Arifureta Yorimachi de Sekai Saikyou',\n",
       "       'Jiqiren Dou Dou: Huanle Dou Dou Ji',\n",
       "       'Free! Movie 3: Road to the World - Yume', 'Angel ga Tonda Hi',\n",
       "       'Yingxiong Qi Ge Ban',\n",
       "       'Detective Conan Movie 09: Strategy Above the Depths',\n",
       "       'Bai She II: Qing She Jie Qi', 'Oyayubi-hime', 'Kigyou Senshi Arslan',\n",
       "       'Dai 13-kai Indies Anime Festa OP', 'Metal Fight Beyblade',\n",
       "       'Queen's Blade: Rurou no Senshi Specials',\n",
       "       'Mashin Mukashi Banashi Gekijou', '77Danui Bimil', 'Bbasha Mecard S',\n",
       "       'Ryuudouji Shimon no Inbou', 'Hitozuma Cosplay Kissa',\n",
       "       'Chokotto Kamen feat. Inoue Kikuko', 'Aikagi The Animation',\n",
       "       'Date A Live II', 'Chinzei Hachirou Tametomo (2021)',\n",
       "       'Tokubetsu Byoutou', 'Feng Ji Yun Nu', 'Futon', 'Cofun Gal no Coffy',\n",
       "       'Date A Live: Date to Date',\n",
       "       'Doraemon Movie 02: Nobita no Uchuu Kaitakushi', 'Mangirl!',\n",
       "       'Aru Nihon no Ekaki Shounen', 'Xiao Yu Ren Mojimusi Yijia 4th Season',\n",
       "       'Warau Salesman Dai SP-banashi', 'Kikumana',\n",
       "       'Manga Nihon Keizai Nyuumon', 'Black★Rock Shooter',\n",
       "       'Doraemon (2005) Specials', 'Zephyr', 'Dennou Coil',\n",
       "       'AOTU Xueyuan: Ge Rui de Xinnian', 'Benghuai Xinghe', 'Bite-Choicar',\n",
       "       'Itsudatte My Santa!', 'Akai Kutsu! Onnanoko!', 'Extreme Hearts',\n",
       "       'WiSH VOYAGE', 'Xiao Tu Bandy: Haidao Tanxian Ji', 'Meishu Guan Zhi Ye',\n",
       "       'Yumedamaya Kidan', 'Daicon Opening Animations',\n",
       "       'Bai Shou Zong Dong Yuan: Konglong Yongshi Dang An',\n",
       "       'Utsukushiki Sei no Dendoushi Reirei', 'Washimo 9th Season',\n",
       "       'Nyanpuku Nyaruma', 'Cowboy Bebop: Tengoku no Tobira',\n",
       "       'Zhu Zhu Xia: Jing Qiu Xiao Yingxiong', 'Animation!',\n",
       "       'Aharen-san wa Hakarenai', 'Xiangpi Ni Xiao Zhen', 'Zunda Horizon',\n",
       "       'Youkai Watch Movie 3: Soratobu Kujira to Double Sekai no Daibouken da Nyan!',\n",
       "       'Devilman Lady', 'Dinghai Fusheng Lu', 'Wanna Be a Tuna',\n",
       "       'Bokutachi wa Benkyou ga Dekinai! Chapel no Kane wa [X] wo Shukufuku Suru',\n",
       "       'Marriage Blue: \"Konyakusha ga Iru no ni, Doushite Konna Otoko ni......\"',\n",
       "       'Maps', 'Ryou Seibai!: Gakuen Bishoujo Seisai Hiroku', 'Dousou Kai',\n",
       "       'Dimension W: W no Tobira Online - Rose no Onayami Soudanshitsu',\n",
       "       'Watanuki-san Chi to', 'Mass Effect: Paragon Lost',\n",
       "       'After... The Animation', 'D.C.: Da Capo', 'Yaya Jingling Zhandui',\n",
       "       'Behind a Smile', 'Akuma no Organ', 'Black Clover', 'Maomao Zhen',\n",
       "       'Yuuki Yuuna wa Yuusha de Aru: Washio Sumi no Shou 2 - Tamashii',\n",
       "       'Zhiling Baobei', 'AOTU Shijie 2', 'Bean Bandit',\n",
       "       'Wu Geng Ji Zhi Tianqi', 'Alice to Zouroku',\n",
       "       'Dirty Pair: Bouryaku no 005-bin', 'Wan Jie Xian Zong 4th Season',\n",
       "       'Daisy Blue', 'Appleseed (Movie)', 'Xiao Buji',\n",
       "       'W'z: Hand Shakers with W'z', 'Futari no Tarou', 'Manatsu no Namida',\n",
       "       'Menghuan Zhuangyuan', 'Boku no Hero Academia 4th Season',\n",
       "       'Zhen Dao Ge', 'Yao Shen Ji 3rd Season', 'White Album'],\n",
       "      dtype='object', name='title')"
      ]
     },
     "execution_count": 14,
     "metadata": {},
     "output_type": "execute_result"
    }
   ],
   "source": [
    "indices.sample(100).index"
   ]
  },
  {
   "cell_type": "code",
   "execution_count": 11,
   "metadata": {},
   "outputs": [],
   "source": [
    "def get_recommendations(title, cosine_sim, num_recommend = 10):\n",
    "    idx = indices[title]\n",
    "    print(idx[0])\n",
    "# Get the pairwsie similarity scores of all movies with that movie\n",
    "    sim_scores = list(enumerate(cosine_sim[idx]))\n",
    "# Sort the movies based on the similarity scores\n",
    "    print(cosine_sim.shape)\n",
    "    print(sim_scores)\n",
    "    sim_scores = sorted(sim_scores, key=lambda x: x[1], reverse=True)\n",
    "# Get the scores of the 10 most similar movies\n",
    "    top_similar = sim_scores[1:num_recommend+1]\n",
    "# Get the movie indices\n",
    "    movie_indices = [i[0] for i in top_similar]\n",
    "# Return the top 10 most similar movies\n",
    "    return df['title'].iloc[movie_indices]\n"
   ]
  },
  {
   "cell_type": "code",
   "execution_count": 19,
   "metadata": {},
   "outputs": [
    {
     "data": {
      "text/plain": [
       "'Pyuu to Fuku! Jaguar: Return of Yaku Ichinenburi'"
      ]
     },
     "execution_count": 19,
     "metadata": {},
     "output_type": "execute_result"
    }
   ],
   "source": [
    "indices[[10,152,2357]].index[0]"
   ]
  },
  {
   "cell_type": "code",
   "execution_count": 74,
   "metadata": {},
   "outputs": [
    {
     "ename": "IndexError",
     "evalue": "invalid index to scalar variable.",
     "output_type": "error",
     "traceback": [
      "\u001b[1;31m---------------------------------------------------------------------------\u001b[0m",
      "\u001b[1;31mIndexError\u001b[0m                                Traceback (most recent call last)",
      "\u001b[1;32mc:\\Users\\gabriel\\Documents\\Projet JS\\OpenClassroom\\Django\\test_anime\\recommandations\\src\\content_based.ipynb Cell 13\u001b[0m line \u001b[0;36m1\n\u001b[1;32m----> <a href='vscode-notebook-cell:/c%3A/Users/gabriel/Documents/Projet%20JS/OpenClassroom/Django/test_anime/recommandations/src/content_based.ipynb#X12sZmlsZQ%3D%3D?line=0'>1</a>\u001b[0m get_recommendations(\u001b[39m'\u001b[39;49m\u001b[39mYahari Ore no Seishun Love Comedy wa Machigatteiru.\u001b[39;49m\u001b[39m'\u001b[39;49m, cosine_sim_summary,num_recommend \u001b[39m=\u001b[39;49m \u001b[39m20\u001b[39;49m)\n",
      "\u001b[1;32mc:\\Users\\gabriel\\Documents\\Projet JS\\OpenClassroom\\Django\\test_anime\\recommandations\\src\\content_based.ipynb Cell 13\u001b[0m line \u001b[0;36m3\n\u001b[0;32m      <a href='vscode-notebook-cell:/c%3A/Users/gabriel/Documents/Projet%20JS/OpenClassroom/Django/test_anime/recommandations/src/content_based.ipynb#X12sZmlsZQ%3D%3D?line=0'>1</a>\u001b[0m \u001b[39mdef\u001b[39;00m \u001b[39mget_recommendations\u001b[39m(title, cosine_sim, num_recommend \u001b[39m=\u001b[39m \u001b[39m10\u001b[39m):\n\u001b[0;32m      <a href='vscode-notebook-cell:/c%3A/Users/gabriel/Documents/Projet%20JS/OpenClassroom/Django/test_anime/recommandations/src/content_based.ipynb#X12sZmlsZQ%3D%3D?line=1'>2</a>\u001b[0m     idx \u001b[39m=\u001b[39m indices[title]\n\u001b[1;32m----> <a href='vscode-notebook-cell:/c%3A/Users/gabriel/Documents/Projet%20JS/OpenClassroom/Django/test_anime/recommandations/src/content_based.ipynb#X12sZmlsZQ%3D%3D?line=2'>3</a>\u001b[0m     \u001b[39mprint\u001b[39m(idx[\u001b[39m0\u001b[39;49m])\n\u001b[0;32m      <a href='vscode-notebook-cell:/c%3A/Users/gabriel/Documents/Projet%20JS/OpenClassroom/Django/test_anime/recommandations/src/content_based.ipynb#X12sZmlsZQ%3D%3D?line=3'>4</a>\u001b[0m \u001b[39m# Get the pairwsie similarity scores of all movies with that movie\u001b[39;00m\n\u001b[0;32m      <a href='vscode-notebook-cell:/c%3A/Users/gabriel/Documents/Projet%20JS/OpenClassroom/Django/test_anime/recommandations/src/content_based.ipynb#X12sZmlsZQ%3D%3D?line=4'>5</a>\u001b[0m     sim_scores \u001b[39m=\u001b[39m \u001b[39mlist\u001b[39m(\u001b[39menumerate\u001b[39m(cosine_sim[idx]))\n",
      "\u001b[1;31mIndexError\u001b[0m: invalid index to scalar variable."
     ]
    }
   ],
   "source": [
    "get_recommendations('Yahari Ore no Seishun Love Comedy wa Machigatteiru.', cosine_sim_summary,num_recommend = 20)\n"
   ]
  }
 ],
 "metadata": {
  "kernelspec": {
   "display_name": "Python 3",
   "language": "python",
   "name": "python3"
  },
  "language_info": {
   "codemirror_mode": {
    "name": "ipython",
    "version": 3
   },
   "file_extension": ".py",
   "mimetype": "text/x-python",
   "name": "python",
   "nbconvert_exporter": "python",
   "pygments_lexer": "ipython3",
   "version": "3.11.0"
  },
  "orig_nbformat": 4
 },
 "nbformat": 4,
 "nbformat_minor": 2
}
