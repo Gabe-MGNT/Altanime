{
 "cells": [
  {
   "cell_type": "code",
   "execution_count": 2,
   "metadata": {},
   "outputs": [],
   "source": [
    "import numpy as np\n",
    "import pandas as pd\n",
    "from sklearn.feature_extraction.text import TfidfVectorizer\n",
    "from sklearn.metrics.pairwise import cosine_similarity\n",
    "from sklearn.preprocessing import MultiLabelBinarizer\n",
    "\n"
   ]
  },
  {
   "cell_type": "code",
   "execution_count": 3,
   "metadata": {},
   "outputs": [],
   "source": [
    "\n",
    "def get_cosine_similarity_from_column(df, column_name, categorie=True):\n",
    "    res = None\n",
    "    if categorie == True:\n",
    "        res =  encode_categories(df, column_name)\n",
    "        return cosine_similarity(pd.DataFrame(list(res)))\n",
    "    else:\n",
    "        res =  encode_text(df, column_name)\n",
    "        return cosine_similarity(res, res)\n",
    "\n",
    "\n",
    "def encode_text(df, column_name):\n",
    "    tfidf = TfidfVectorizer(stop_words='english')\n",
    "    tfidf_matrix = tfidf.fit_transform(df[column_name])\n",
    "    return tfidf_matrix\n",
    "\n",
    "def encode_categories(df, column_name):\n",
    "    set_genres = get_unique_elements(df[column_name])\n",
    "    set_genres.remove('')\n",
    "    genres_list = list(set_genres)\n",
    "    genres_array = np.array(genres_list).reshape(1,-1)\n",
    "\n",
    "    le = MultiLabelBinarizer()\n",
    "    le.fit(genres_array)\n",
    "\n",
    "    def apply_le(x):\n",
    "        if len(x)==0:\n",
    "            return [0] * len(le.classes_)\n",
    "        res = le.transform([x.split(\",\")])\n",
    "        return res[0]\n",
    "    \n",
    "    return df[column_name].apply(apply_le)\n",
    "\n",
    "def get_unique_elements(column):\n",
    "    set_genre = set()\n",
    "    for _, row in enumerate(column):\n",
    "        try:\n",
    "            genres = row.split(',')\n",
    "            for genre in genres:\n",
    "                set_genre.add(genre)\n",
    "        except Exception:\n",
    "            genre = row\n",
    "\n",
    "            set_genre.add(genre)\n",
    "    return set_genre"
   ]
  },
  {
   "cell_type": "code",
   "execution_count": 6,
   "metadata": {},
   "outputs": [],
   "source": [
    "\n",
    "df = pd.read_csv(\"../../anime.csv\")\n",
    "df = df.fillna('')\n",
    "\n",
    "def get_genres_similarities():\n",
    "    return get_cosine_similarity_from_column(df, 'Genres', True)\n",
    "\n",
    "def get_studios_similarities():\n",
    "    return get_cosine_similarity_from_column(df, 'Studios', True)\n",
    "\n",
    "def get_themes_similarities():\n",
    "    return get_cosine_similarity_from_column(df, 'Themes', True)\n",
    "\n",
    "def get_summary_similarities():\n",
    "    return get_cosine_similarity_from_column(df, 'summary', False)\n",
    "\n",
    "def get_indices():\n",
    "    return pd.Series(df.index, index=df['title'])"
   ]
  },
  {
   "cell_type": "code",
   "execution_count": 8,
   "metadata": {},
   "outputs": [
    {
     "data": {
      "text/plain": [
       "array([[1.        , 0.        , 0.        , ..., 0.        , 0.        ,\n",
       "        0.01126051],\n",
       "       [0.        , 0.        , 0.        , ..., 0.        , 0.        ,\n",
       "        0.        ],\n",
       "       [0.        , 0.        , 0.        , ..., 0.        , 0.        ,\n",
       "        0.        ],\n",
       "       ...,\n",
       "       [0.        , 0.        , 0.        , ..., 1.        , 1.        ,\n",
       "        0.        ],\n",
       "       [0.        , 0.        , 0.        , ..., 1.        , 1.        ,\n",
       "        0.        ],\n",
       "       [0.01126051, 0.        , 0.        , ..., 0.        , 0.        ,\n",
       "        1.        ]])"
      ]
     },
     "execution_count": 8,
     "metadata": {},
     "output_type": "execute_result"
    }
   ],
   "source": []
  }
 ],
 "metadata": {
  "kernelspec": {
   "display_name": "Python 3",
   "language": "python",
   "name": "python3"
  },
  "language_info": {
   "codemirror_mode": {
    "name": "ipython",
    "version": 3
   },
   "file_extension": ".py",
   "mimetype": "text/x-python",
   "name": "python",
   "nbconvert_exporter": "python",
   "pygments_lexer": "ipython3",
   "version": "3.11.0"
  },
  "orig_nbformat": 4
 },
 "nbformat": 4,
 "nbformat_minor": 2
}
